{
  "nbformat": 4,
  "nbformat_minor": 0,
  "metadata": {
    "colab": {
      "provenance": []
    },
    "kernelspec": {
      "name": "python3",
      "display_name": "Python 3"
    },
    "language_info": {
      "name": "python"
    }
  },
  "cells": [
    {
      "cell_type": "markdown",
      "source": [
        "1. What is a RESTful API ?\n",
        " - A RESTful API (Representational State Transfer API) is a way for two computer systems to communicate over the internet using standard web protocols, typically HTTP. It follows a set of principles that make the communication between client and server simple, stateless, and scalable.\n",
        "2. Explain the concept of API specification.\n",
        "  - An API specification is a detailed document that describes how an API behaves and how it should be used. It defines the rules, structure, and standards for interacting with the API.\n",
        "     - It clearly outlines the endpoints (the available URLs or paths).\n",
        "\n",
        "     - It describes the methods (like GET, POST, PUT, DELETE) allowed on each endpoint.\n",
        "\n",
        "     - It specifies the input data (parameters, headers, body format) that the client must send.\n",
        "\n",
        "    - It defines the output data (response format, status codes) that the server will return.\n",
        "\n",
        "    - It may include information about authentication, error handling, and rate limiting.\n",
        "3. What is Flask, and why is it popular for building APIs ?\n",
        "  - Flask is a lightweight and flexible Python web framework used to build web applications and APIs. It is called a \"micro-framework\" because it provides the basic tools to get started quickly but leaves the choice of adding extra features (like database connections, form validations, or authentication) to the developer.\n",
        "4. What is routing in Flask ?\n",
        "  - In Flask, routing refers to the process of defining URLs (or paths) and connecting them to specific functions in your application.\n",
        "\n",
        "  - When a user visits a certain URL, Flask uses routing to decide which function (called a view function) should handle the request and what response should be returned.\n",
        "\n",
        "  - You define routes using the @app.route() decorator above a function.\n",
        "\n",
        "  - Each route corresponds to a URL and an HTTP method like GET or POST\n",
        "5.  How do you create a simple Flask application ?\n",
        "   - To create a simple Flask application, you follow these basic steps:\n",
        "      - Install Flask:\n",
        "      - Import Flask:\n",
        "      - Create a Flask instance:\n",
        "      - Define routes:\n",
        "      - Write view functions:\n",
        "      - Run the application:\n",
        "6. What are HTTP methods used in RESTful APIs ?\n",
        "  - In RESTful APIs, HTTP methods define the type of action the client wants to perform on the server.\n",
        "The main HTTP methods used are:\n",
        "    - GET\n",
        "    - POST\n",
        "    - PUT\n",
        "    - PATCH\n",
        "    - DELETE\n",
        "7. What is the purpose of the @app.route() decorator in Flask ?\n",
        "  - @app.route() maps URLs to functions so your application knows how to respond to different requests.\n",
        "8. What is the difference between GET and POST HTTP methods ?\n",
        "   - The difference between GET and POST HTTP methods is mainly about how they send data and what they are used for:\n",
        "      - GET\n",
        "         - Used to retrieve data from the server.\n",
        "         - Sends data through the URL (as query parameters, like ?name=John).\n",
        "         - The data is visible in the browser’s address bar.\n",
        "         - Should not be used for sensitive information.\n",
        "         - It is idempotent, meaning calling it multiple times doesn't change the server's data.\n",
        "   - POST\n",
        "        - Used to send data to the server to create or submit something.\n",
        "\n",
        "        - Sends data through the body of the HTTP request (not visible in URL).\n",
        "\n",
        "        - Safer for sending sensitive or large amounts of data.\n",
        "\n",
        "        - It can change server data (like creating a new user).\n",
        "9. How do you handle errors in Flask APIs ?\n",
        "   - In Flask APIs, errors can be handled in several ways to provide meaningful error responses to the client and ensure the application behaves gracefully when something goes wrong.\n",
        "10. How do you connect Flask to a SQL database ?\n",
        "   - To connect Flask to a SQL database:\n",
        "\n",
        "  - Install Dependencies: Install Flask-SQLAlchemy and the appropriate database driver (e.g., psycopg2 for PostgreSQL).\n",
        "\n",
        "  - Configure Database URI: Set the database URI in Flask’s config (SQLALCHEMY_DATABASE_URI).\n",
        "\n",
        "  - Initialize SQLAlchemy: Create a SQLAlchemy object and bind it to the Flask app.\n",
        "\n",
        "  - Create Models: Define models that represent database tables using SQLAlchemy ORM.\n",
        "\n",
        "  - Create Tables: Use db.create_all() to create the tables based on the defined models.\n",
        "11. What is the role of Flask-SQLAlchemy ?\n",
        "  - Flask-SQLAlchemy is an extension for Flask that adds support for SQLAlchemy, a powerful Object Relational Mapper (ORM) for Python. It simplifies database interactions by allowing you to define database models as Python classes, query the database using Python objects, and manage database sessions and transactions more easily. Flask-SQLAlchemy abstracts away much of the complexity of working with SQL databases directly, making it easier to integrate and manage relational databases in Flask applications.\n",
        "12. What are Flask blueprints, and how are they useful ?\n",
        "  - Flask Blueprints are a way to organize a Flask application into modular components. They allow you to define routes, views, and other app elements in separate, reusable sections. Blueprints help structure large applications by grouping related functionality together, making the app more maintainable and scalable.\n",
        "13. What is the purpose of Flask's request object ?\n",
        "  - Flask's request object is used to access incoming request data in a Flask application. It provides methods and attributes that allow you to retrieve data sent by the client, such as form data, query parameters, JSON data, headers, and more.Accessing Form Data,Accessing URL Parameters,Accessing JSON Data,Accessing Headers,Accessing Cookies.\n",
        "14. How do you create a RESTful API endpoint using Flask ?\n",
        "  - To create a RESTful API endpoint in Flask:\n",
        "\n",
        "  - Import Flask and necessary modules like jsonify.\n",
        "\n",
        "  - Create a Flask app instance.\n",
        "\n",
        "  - Define routes using @app.route() and specify HTTP methods (GET, POST, etc.).\n",
        "\n",
        "  - Return JSON responses using jsonify() to ensure data is returned in a standard format.\n",
        "\n",
        "  - Run the application to make the API accessible.\n",
        "15. What is the purpose of Flask's jsonify() function ?\n",
        "  - Flask's jsonify() function is used to convert Python data (like dictionaries or lists) into JSON format and return it as a response with the correct Content-Type header (application/json). This ensures that the data sent from the Flask application is properly formatted as JSON for the client to consume.\n",
        "16. Explain Flask’s url_for() function.\n",
        "  - Flask's url_for() function is used to generate the URL for a specific view function dynamically. Instead of hardcoding URLs, it allows you to reference views by their function names and automatically handles URL construction, even if the app structure changes. This ensures that your URLs are generated in a consistent and flexible manner.\n",
        "17. How does Flask handle static files (CSS, JavaScript, etc.)?\n",
        "  - Flask serves static files (like CSS, JavaScript, and images) from a special folder named static/. By default, any file placed in the static folder can be accessed via a URL that starts with /static/. Flask automatically handles the serving of these files without needing explicit route definitions.\n",
        "18. What is an API specification, and how does it help in building a Flask API ?\n",
        "  - An API specification is a detailed document or contract that defines how an API behaves, including its endpoints, request methods, input/output formats, authentication methods, and error codes. It serves as a blueprint for both developers and consumers of the API, ensuring consistency and clarity in how the API should be used.\n",
        "19.  What are HTTP status codes, and why are they important in a Flask API ?\n",
        "  - HTTP status codes are three-digit numbers returned by a server in response to an HTTP request. They indicate the result of the request, providing essential feedback to the client about the success or failure of the operation.\n",
        "20. How do you handle POST requests in Flask ?\n",
        "  - To handle POST requests in Flask, you follow these steps:\n",
        "\n",
        "  - Define a Route with the POST method in @app.route().\n",
        "\n",
        "  - Access POST Data using request.form (for form data) or request.get_json() (for JSON data).\n",
        "\n",
        "  - Process the Data (e.g., store in a database, perform logic).\n",
        "\n",
        "  - Return a Response (often in JSON format with appropriate status codes).\n",
        "21. How would you secure a Flask API ?\n",
        "  - Securing a Flask API involves implementing various practices and tools to protect the application from unauthorized access, malicious requests, and other security vulnerabilities. Here are key strategies to secure a Flask API:\n",
        "  Use HTTPS, Authentication and Authorization,Role-based Access Control (RBAC),\n",
        "  Input Validation,Rate Limiting,CORS (Cross-Origin Resource Sharing),Input Sanitization,Error Handling and Logging,Secure Headers,Use Strong Passwords and Hashing,Secure Session Management\n",
        "22. What is the significance of the Flask-RESTful extension ?\n",
        "  - The Flask-RESTful extension is a Flask extension that simplifies the process of building RESTful APIs by providing tools for defining resources, handling HTTP methods, and organizing code more effectively. It extends Flask's core functionality to make it easier to create REST APIs with cleaner and more structured code.\n",
        "23. What is the role of Flask’s session object?\n",
        "   - Flask’s session object is used to store data that is specific to a particular user across multiple requests. It acts as a client-side session that can be used to keep track of user-specific information, such as authentication status, preferences, or shopping cart items, between requests.\n",
        "\n",
        "\n"
      ],
      "metadata": {
        "id": "dLOTBrtrOgLf"
      }
    },
    {
      "cell_type": "markdown",
      "source": [
        "##Practical##"
      ],
      "metadata": {
        "id": "XogLj0trUwqz"
      }
    },
    {
      "cell_type": "markdown",
      "source": [
        "1. How do you create a basic Flask application ?"
      ],
      "metadata": {
        "id": "6TEvWFQ3Uz1G"
      }
    },
    {
      "cell_type": "code",
      "source": [
        "##pip install Flask\n",
        "\n",
        "from flask import Flask\n",
        "\n",
        "# Create an instance of the Flask class\n",
        "app = Flask(__name__)\n",
        "\n",
        "# Define a route and a view function\n",
        "@app.route('/')\n",
        "def home():\n",
        "    return \"Hello, World!\"  # Response returned to the client\n",
        "\n",
        "# Run the app\n",
        "if __name__ == '__main__':\n",
        "    app.run(debug=True)\n"
      ],
      "metadata": {
        "colab": {
          "base_uri": "https://localhost:8080/"
        },
        "id": "mQxkhhWmU5Kv",
        "outputId": "1a111793-a542-44c7-a3f3-25edfc88f4bd"
      },
      "execution_count": null,
      "outputs": [
        {
          "output_type": "stream",
          "name": "stdout",
          "text": [
            " * Serving Flask app '__main__'\n",
            " * Debug mode: on\n"
          ]
        },
        {
          "output_type": "stream",
          "name": "stderr",
          "text": [
            "INFO:werkzeug:\u001b[31m\u001b[1mWARNING: This is a development server. Do not use it in a production deployment. Use a production WSGI server instead.\u001b[0m\n",
            " * Running on http://127.0.0.1:5000\n",
            "INFO:werkzeug:\u001b[33mPress CTRL+C to quit\u001b[0m\n",
            "INFO:werkzeug: * Restarting with stat\n"
          ]
        }
      ]
    },
    {
      "cell_type": "markdown",
      "source": [
        "2. How do you serve static files like images or CSS in Flask ?"
      ],
      "metadata": {
        "id": "Dvaxd0ehVGWN"
      }
    },
    {
      "cell_type": "code",
      "source": [
        "<!DOCTYPE html>\n",
        "<html lang=\"en\">\n",
        "<head>\n",
        "    <meta charset=\"UTF-8\">\n",
        "    <title>Flask Static Example</title>\n",
        "    <!-- Referencing a CSS file -->\n",
        "    <link rel=\"stylesheet\" href=\"{{ url_for('static', filename='css/style.css') }}\">\n",
        "</head>\n",
        "<body>\n",
        "    <h1>Welcome to Flask Static Files!</h1>\n",
        "    <!-- Referencing an image file -->\n",
        "    <img src=\"{{ url_for('static', filename='images/logo.png') }}\" alt=\"Logo\">\n",
        "</body>\n",
        "</html>\n"
      ],
      "metadata": {
        "id": "ZxXdMm7fVQVN"
      },
      "execution_count": null,
      "outputs": []
    },
    {
      "cell_type": "markdown",
      "source": [
        "3.  How do you define different routes with different HTTP methods in Flask ?"
      ],
      "metadata": {
        "id": "KnokIwRhVT49"
      }
    },
    {
      "cell_type": "code",
      "source": [
        "from flask import Flask, request, jsonify\n",
        "\n",
        "app = Flask(__name__)\n",
        "\n",
        "# Route for GET request\n",
        "@app.route('/greet', methods=['GET'])\n",
        "def greet():\n",
        "    return \"Hello, World!\"\n",
        "\n",
        "# Route for POST request\n",
        "@app.route('/data', methods=['POST'])\n",
        "def post_data():\n",
        "    data = request.json  # Assuming JSON data is sent in the request body\n",
        "    return jsonify({\"message\": \"Data received\", \"your_data\": data}), 201\n",
        "\n",
        "# Route for PUT request\n",
        "@app.route('/update/<int:id>', methods=['PUT'])\n",
        "def update_data(id):\n",
        "    data = request.json\n",
        "    return jsonify({\"message\": f\"Data for ID {id} updated\", \"new_data\": data}), 200\n",
        "\n",
        "# Route for DELETE request\n",
        "@app.route('/delete/<int:id>', methods=['DELETE'])\n",
        "def delete_data(id):\n",
        "    return jsonify({\"message\": f\"Data for ID {id} deleted\"}), 200\n",
        "\n",
        "# Route for handling multiple methods (GET and POST)\n",
        "@app.route('/process', methods=['GET', 'POST'])\n",
        "def process_data():\n",
        "    if request.method == 'GET':\n",
        "        return jsonify({\"message\": \"GET request received\"})\n",
        "    elif request.method == 'POST':\n",
        "        data = request.json\n",
        "        return jsonify({\"message\": \"POST request received\", \"data\": data}), 201\n",
        "\n",
        "if __name__ == '__main__':\n",
        "    app.run(debug=True)\n"
      ],
      "metadata": {
        "id": "Qumtxeb-Vg1b"
      },
      "execution_count": null,
      "outputs": []
    },
    {
      "cell_type": "markdown",
      "source": [
        "4. How do you render HTML templates in Flask?"
      ],
      "metadata": {
        "id": "8of0lrwBVl1L"
      }
    },
    {
      "cell_type": "code",
      "source": [
        "<!DOCTYPE html>\n",
        "<html lang=\"en\">\n",
        "<head>\n",
        "    <meta charset=\"UTF-8\">\n",
        "    <title>{{ title }}</title>\n",
        "</head>\n",
        "<body>\n",
        "    <h1>{{ greeting }}</h1>\n",
        "    <p>Welcome to the Flask application!</p>\n",
        "</body>\n",
        "</html>\n",
        "\n",
        "\n",
        "from flask import Flask, render_template\n",
        "\n",
        "app = Flask(__name__)\n",
        "\n",
        "@app.route('/')\n",
        "def home():\n",
        "    title = \"Welcome Page\"\n",
        "    greeting = \"Hello, World!\"\n",
        "    # Rendering the HTML template and passing variables\n",
        "    return render_template('index.html', title=title, greeting=greeting)\n",
        "\n",
        "if __name__ == '__main__':\n",
        "    app.run(debug=True)\n"
      ],
      "metadata": {
        "id": "0q_C945YV0Yx"
      },
      "execution_count": null,
      "outputs": []
    },
    {
      "cell_type": "markdown",
      "source": [
        "5. How can you generate URLs for routes in Flask using url_for ?"
      ],
      "metadata": {
        "id": "ZIEVyMqlV2-O"
      }
    },
    {
      "cell_type": "code",
      "source": [
        "from flask import Flask, render_template, url_for\n",
        "\n",
        "app = Flask(__name__)\n",
        "\n",
        "@app.route('/')\n",
        "def home():\n",
        "    return render_template('home.html')\n",
        "\n",
        "@app.route('/user/<username>')\n",
        "def profile(username):\n",
        "    return f'User profile: {username}'\n",
        "\n",
        "@app.route('/post/<int:post_id>')\n",
        "def post(post_id):\n",
        "    return f'Post ID: {post_id}'\n",
        "\n",
        "if __name__ == '__main__':\n",
        "    app.run(debug=True)\n",
        "\n",
        "\n",
        "<!DOCTYPE html>\n",
        "<html lang=\"en\">\n",
        "<head>\n",
        "    <meta charset=\"UTF-8\">\n",
        "    <title>Flask URL Generation</title>\n",
        "</head>\n",
        "<body>\n",
        "    <h1>Flask URL Generation Example</h1>\n",
        "\n",
        "    <p><a href=\"{{ url_for('profile', username='john') }}\">Go to John’s Profile</a></p>\n",
        "    <p><a href=\"{{ url_for('post', post_id=42) }}\">Go to Post 42</a></p>\n",
        "    <p><a href=\"{{ url_for('home') }}\">Go to Home Page</a></p>\n",
        "</body>\n",
        "</html>\n"
      ],
      "metadata": {
        "id": "fMWfF-zcWAxi"
      },
      "execution_count": null,
      "outputs": []
    },
    {
      "cell_type": "markdown",
      "source": [
        "6. How do you handle forms in Flask ?"
      ],
      "metadata": {
        "id": "ZhOTDt56WEMQ"
      }
    },
    {
      "cell_type": "code",
      "source": [
        "<!DOCTYPE html>\n",
        "<html lang=\"en\">\n",
        "<head>\n",
        "    <meta charset=\"UTF-8\">\n",
        "    <title>Flask Form Example</title>\n",
        "</head>\n",
        "<body>\n",
        "    <h1>Flask Form Example</h1>\n",
        "\n",
        "    <!-- Form for submitting user data -->\n",
        "    <form method=\"POST\" action=\"/submit\">\n",
        "        <label for=\"name\">Name:</label>\n",
        "        <input type=\"text\" id=\"name\" name=\"name\" required><br><br>\n",
        "\n",
        "        <label for=\"email\">Email:</label>\n",
        "        <input type=\"email\" id=\"email\" name=\"email\" required><br><br>\n",
        "\n",
        "        <input type=\"submit\" value=\"Submit\">\n",
        "    </form>\n",
        "</body>\n",
        "</html>\n"
      ],
      "metadata": {
        "id": "TxPVlUugWNUo"
      },
      "execution_count": null,
      "outputs": []
    },
    {
      "cell_type": "code",
      "source": [
        "from flask import Flask, render_template, request, redirect, url_for\n",
        "\n",
        "app = Flask(__name__)\n",
        "\n",
        "# Route for displaying the form\n",
        "@app.route('/')\n",
        "def index():\n",
        "    return render_template('form.html')\n",
        "\n",
        "# Route for handling the form submission\n",
        "@app.route('/submit', methods=['POST'])\n",
        "def submit():\n",
        "    # Get form data\n",
        "    name = request.form.get('name')\n",
        "    email = request.form.get('email')\n",
        "\n",
        "    # You can process the data, store it in a database, etc.\n",
        "    # For now, we'll just print the data to the console\n",
        "    print(f\"Name: {name}, Email: {email}\")\n",
        "\n",
        "    # Redirect to a thank you page after form submission\n",
        "    return redirect(url_for('thank_you', name=name))\n",
        "\n",
        "# Route for the thank you page\n",
        "@app.route('/thank_you')\n",
        "def thank_you():\n",
        "    # Get the name parameter from the URL\n",
        "    name = request.args.get('name')\n",
        "    return f\"Thank you for your submission, {name}!\"\n",
        "\n",
        "if __name__ == '__main__':\n",
        "    app.run(debug=True)\n"
      ],
      "metadata": {
        "id": "wlZPRCpcWOy0"
      },
      "execution_count": null,
      "outputs": []
    },
    {
      "cell_type": "markdown",
      "source": [
        "7. How can you validate form data in Flask ?"
      ],
      "metadata": {
        "id": "A_fbGOHrWQ27"
      }
    },
    {
      "cell_type": "code",
      "source": [
        "from flask import Flask, render_template, request, redirect, url_for\n",
        "\n",
        "app = Flask(__name__)\n",
        "\n",
        "# Route for displaying the form\n",
        "@app.route('/')\n",
        "def index():\n",
        "    return render_template('form.html')\n",
        "\n",
        "# Route for handling the form submission\n",
        "@app.route('/submit', methods=['POST'])\n",
        "def submit():\n",
        "    # Get form data\n",
        "    name = request.form.get('name')\n",
        "    email = request.form.get('email')\n",
        "\n",
        "    # Manual validation of form data\n",
        "    if not name or not email:\n",
        "        error = \"Both fields are required!\"\n",
        "        return render_template('form.html', error=error)\n",
        "\n",
        "    if \"@\" not in email:\n",
        "        error = \"Invalid email address!\"\n",
        "        return render_template('form.html', error=error)\n",
        "\n",
        "    # If validation passes, process the data\n",
        "    return redirect(url_for('thank_you', name=name))\n",
        "\n",
        "# Route for the thank you page\n",
        "@app.route('/thank_you')\n",
        "def thank_you():\n",
        "    name = request.args.get('name')\n",
        "    return f\"Thank you for your submission, {name}!\"\n",
        "\n",
        "if __name__ == '__main__':\n",
        "    app.run(debug=True)\n"
      ],
      "metadata": {
        "id": "c7N-W65TWZ_g"
      },
      "execution_count": null,
      "outputs": []
    },
    {
      "cell_type": "markdown",
      "source": [
        "8 How do you manage sessions in Flask ?"
      ],
      "metadata": {
        "id": "8Mm3e0wGWawN"
      }
    },
    {
      "cell_type": "code",
      "source": [
        "from flask import Flask, render_template, request, redirect, url_for, session\n",
        "\n",
        "app = Flask(__name__)\n",
        "\n",
        "# Set the secret key to sign session cookies\n",
        "app.config['SECRET_KEY'] = 'your_secret_key'\n",
        "\n",
        "# Route to display login page\n",
        "@app.route('/login', methods=['GET', 'POST'])\n",
        "def login():\n",
        "    if request.method == 'POST':\n",
        "        username = request.form['username']\n",
        "        password = request.form['password']\n",
        "\n",
        "        # Simple check for demonstration purposes\n",
        "        if username == 'admin' and password == 'password':\n",
        "            # Store user data in session\n",
        "            session['username'] = username\n",
        "            return redirect(url_for('home'))\n",
        "        else:\n",
        "            error = 'Invalid credentials'\n",
        "            return render_template('login.html', error=error)\n",
        "\n",
        "    return render_template('login.html')\n",
        "\n",
        "# Route to display the home page if user is logged in\n",
        "@app.route('/home')\n",
        "def home():\n",
        "    if 'username' not in session:\n",
        "        return redirect(url_for('login'))\n",
        "\n",
        "    username = session['username']\n",
        "    return render_template('home.html', username=username)\n",
        "\n",
        "# Route to log out and clear the session\n",
        "@app.route('/logout')\n",
        "def logout():\n",
        "    # Clear the session\n",
        "    session.clear()\n",
        "    return redirect(url_for('login'))\n",
        "\n",
        "if __name__ == '__main__':\n",
        "    app.run(debug=True)\n"
      ],
      "metadata": {
        "id": "Whwuli5fWl46"
      },
      "execution_count": null,
      "outputs": []
    },
    {
      "cell_type": "markdown",
      "source": [
        "9.  How do you redirect to a different route in Flask ?"
      ],
      "metadata": {
        "id": "EgpIdTUtWmfe"
      }
    },
    {
      "cell_type": "code",
      "source": [
        "from flask import Flask, redirect, url_for, render_template\n",
        "\n",
        "app = Flask(__name__)\n",
        "\n",
        "# Route to display the home page\n",
        "@app.route('/home')\n",
        "def home():\n",
        "    return render_template('home.html')\n",
        "\n",
        "# Route to display the login page\n",
        "@app.route('/login')\n",
        "def login():\n",
        "    return render_template('login.html')\n",
        "\n",
        "# Route to redirect to home page\n",
        "@app.route('/redirect_to_home')\n",
        "def redirect_to_home():\n",
        "    return redirect(url_for('home'))\n",
        "\n",
        "# Route to redirect to login page\n",
        "@app.route('/redirect_to_login')\n",
        "def redirect_to_login():\n",
        "    return redirect(url_for('login'))\n",
        "\n",
        "if __name__ == '__main__':\n",
        "    app.run(debug=True)\n"
      ],
      "metadata": {
        "id": "EoXIr4azWv13"
      },
      "execution_count": null,
      "outputs": []
    },
    {
      "cell_type": "markdown",
      "source": [
        "10. How do you handle errors in Flask (e.g., 404) ?"
      ],
      "metadata": {
        "id": "kTAepbJ6Wwrg"
      }
    },
    {
      "cell_type": "code",
      "source": [
        "from flask import Flask, render_template\n",
        "\n",
        "app = Flask(__name__)\n",
        "\n",
        "# Route to display the home page\n",
        "@app.route('/')\n",
        "def home():\n",
        "    return render_template('home.html')\n",
        "\n",
        "# Custom error handler for 404 (Page Not Found)\n",
        "@app.errorhandler(404)\n",
        "def page_not_found(error):\n",
        "    return render_template('error404.html'), 404\n",
        "\n",
        "# Custom error handler for 500 (Internal Server Error)\n",
        "@app.errorhandler(500)\n",
        "def internal_error(error):\n",
        "    return render_template('error500.html'), 500\n",
        "\n",
        "if __name__ == '__main__':\n",
        "    app.run(debug=True)\n"
      ],
      "metadata": {
        "id": "1AIq5gsfW11s"
      },
      "execution_count": null,
      "outputs": []
    },
    {
      "cell_type": "markdown",
      "source": [
        "11. How do you structure a Flask app using Blueprints ?"
      ],
      "metadata": {
        "id": "2aYMOKQCW5am"
      }
    },
    {
      "cell_type": "code",
      "source": [
        "from flask import Blueprint, render_template\n",
        "\n",
        "# Create a blueprint for the auth module\n",
        "auth_bp = Blueprint('auth', __name__)\n",
        "\n",
        "# Define routes for authentication\n",
        "@auth_bp.route('/login')\n",
        "def login():\n",
        "    return render_template('login.html')\n",
        "\n",
        "@auth_bp.route('/logout')\n",
        "def logout():\n",
        "    return 'Logged out'\n"
      ],
      "metadata": {
        "id": "DJeykAyEXGL-"
      },
      "execution_count": null,
      "outputs": []
    },
    {
      "cell_type": "markdown",
      "source": [
        "12. How do you define a custom Jinja filter in Flask ?"
      ],
      "metadata": {
        "id": "-HRXxNAFXG7Y"
      }
    },
    {
      "cell_type": "code",
      "source": [
        "from flask import Flask, render_template\n",
        "\n",
        "app = Flask(__name__)\n",
        "\n",
        "# Step 1: Define a custom filter function\n",
        "def reverse_string(value):\n",
        "    \"\"\"Reverse the input string\"\"\"\n",
        "    return value[::-1]\n",
        "\n",
        "# Step 2: Register the filter with the Flask app\n",
        "app.add_template_filter(reverse_string, 'reverse')\n",
        "\n",
        "# Route to render the template\n",
        "@app.route('/')\n",
        "def home():\n",
        "    return render_template('index.html', text=\"Hello Flask!\")\n",
        "\n",
        "if __name__ == '__main__':\n",
        "    app.run(debug=True)\n"
      ],
      "metadata": {
        "id": "xgfLQb1zXPuX"
      },
      "execution_count": null,
      "outputs": []
    },
    {
      "cell_type": "markdown",
      "source": [
        "13. How can you redirect with query parameters in Flask ?"
      ],
      "metadata": {
        "id": "M0hgFCG6XQkA"
      }
    },
    {
      "cell_type": "code",
      "source": [
        "from flask import Flask, redirect, url_for, request\n",
        "\n",
        "app = Flask(__name__)\n",
        "\n",
        "# Route to display the home page\n",
        "@app.route('/')\n",
        "def home():\n",
        "    return '''\n",
        "        <h1>Home Page</h1>\n",
        "        <a href=\"/redirect_example?name=John&age=25\">Go to Redirect Page with Query Parameters</a>\n",
        "    '''\n",
        "\n",
        "# Route to handle the redirect and query parameters\n",
        "@app.route('/redirect_example')\n",
        "def redirect_example():\n",
        "    # Get query parameters from the URL\n",
        "    name = request.args.get('name')\n",
        "    age = request.args.get('age')\n",
        "    return f\"Redirected to: Name = {name}, Age = {age}\"\n",
        "\n",
        "# Route to redirect with query parameters\n",
        "@app.route('/redirect_with_params')\n",
        "def redirect_with_params():\n",
        "    # Redirecting with query parameters\n",
        "    return redirect(url_for('redirect_example', name='Alice', age=30))\n",
        "\n",
        "if __name__ == '__main__':\n",
        "    app.run(debug=True)\n"
      ],
      "metadata": {
        "id": "E-V6JgVPXUjv"
      },
      "execution_count": null,
      "outputs": []
    },
    {
      "cell_type": "markdown",
      "source": [
        "14. How do you return JSON responses in Flask ?"
      ],
      "metadata": {
        "id": "m-a6LjQMXYf2"
      }
    },
    {
      "cell_type": "code",
      "source": [
        "from flask import Flask, jsonify\n",
        "\n",
        "app = Flask(__name__)\n",
        "\n",
        "# Route that returns a JSON response\n",
        "@app.route('/json_response')\n",
        "def json_response():\n",
        "    # Sample data to return as JSON\n",
        "    data = {\n",
        "        \"name\": \"Alice\",\n",
        "        \"age\": 30,\n",
        "        \"city\": \"New York\"\n",
        "    }\n",
        "    # Returning JSON response using jsonify\n",
        "    return jsonify(data)\n",
        "\n",
        "if __name__ == '__main__':\n",
        "    app.run(debug=True)\n"
      ],
      "metadata": {
        "id": "hIewbiNsXfHv"
      },
      "execution_count": null,
      "outputs": []
    },
    {
      "cell_type": "markdown",
      "source": [
        "15. How do you capture URL parameters in Flask?"
      ],
      "metadata": {
        "id": "LSGW_OXDXf3H"
      }
    },
    {
      "cell_type": "code",
      "source": [
        "from flask import Flask\n",
        "\n",
        "app = Flask(__name__)\n",
        "\n",
        "# Capture a single URL parameter\n",
        "@app.route('/user/<username>')\n",
        "def show_user(username):\n",
        "    return f'Hello, {username}!'\n",
        "\n",
        "# Capture multiple URL parameters\n",
        "@app.route('/post/<int:post_id>')\n",
        "def show_post(post_id):\n",
        "    return f'Post ID: {post_id}'\n",
        "\n",
        "# Capture optional parameters\n",
        "@app.route('/search/<query>')\n",
        "@app.route('/search')\n",
        "def search(query=None):\n",
        "    if query:\n",
        "        return f'Search results for: {query}'\n",
        "    return 'No search query provided.'\n",
        "\n",
        "if __name__ == '__main__':\n",
        "    app.run(debug=True)\n"
      ],
      "metadata": {
        "id": "eq-hdFTiXj-J"
      },
      "execution_count": null,
      "outputs": []
    }
  ]
}